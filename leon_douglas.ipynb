{
  "nbformat": 4,
  "nbformat_minor": 0,
  "metadata": {
    "colab": {
      "name": "leon.douglas.ipynb",
      "provenance": [],
      "include_colab_link": true
    },
    "kernelspec": {
      "name": "python3",
      "display_name": "Python 3"
    }
  },
  "cells": [
    {
      "cell_type": "markdown",
      "metadata": {
        "id": "view-in-github",
        "colab_type": "text"
      },
      "source": [
        "<a href=\"https://colab.research.google.com/github/leonnashi/ProjetoOrdemDeServico/blob/master/leon_douglas.ipynb\" target=\"_parent\"><img src=\"https://colab.research.google.com/assets/colab-badge.svg\" alt=\"Open In Colab\"/></a>"
      ]
    },
    {
      "cell_type": "code",
      "metadata": {
        "id": "_ulsu6Ud6IK4",
        "colab_type": "code",
        "colab": {
          "base_uri": "https://localhost:8080/",
          "height": 51
        },
        "outputId": "79198fcc-0080-4146-b536-6ed978227b34"
      },
      "source": [
        "'''Faça um algoritmo que leia um texto digitado pelo usuário e mostre a letra do meio. Obs: Considere que o texto digitado sempre terá um nr impar de letras'''\n",
        "texto = input('Digite um texto qualquer: ')\n",
        "letra = int((len(texto)-1)/2)\n",
        "\n",
        "print(texto[letra])"
      ],
      "execution_count": 1,
      "outputs": [
        {
          "output_type": "stream",
          "text": [
            "Digite um texto qualquer: SENAC\n",
            "N\n"
          ],
          "name": "stdout"
        }
      ]
    },
    {
      "cell_type": "code",
      "metadata": {
        "id": "MDxmSh-LG-DZ",
        "colab_type": "code",
        "colab": {
          "base_uri": "https://localhost:8080/",
          "height": 85
        },
        "outputId": "25f32c0c-2fff-42d9-dc9d-e17ae062eba6"
      },
      "source": [
        "'''Faça um algoritmo que leia um IPv4 e informe se ele é classe A, B, C ou Obs: leve em consideração que o ip digitado é correto'''\n",
        "ipv4 = input(\"Digite o Ipv4 no fomrado xxx.xxx.xxx.xxx : \")\n",
        "\n",
        "a,b,c,d = ipv4.split(\".\")\n",
        "if len(a) > 3 or len(b) > 3 or len(c) > 3 or len(d) > 3:\n",
        "  print(\"Ipv4 Incorreto! Digite novamente\")\n",
        "\n",
        "n = int(a)\n",
        "\n",
        "print(\"-------------------------\")\n",
        "if n >= 0 and n <= 127:\n",
        "  print(\"Ipv4 Classe A\")\n",
        "if n >= 128 and n <= 191:\n",
        "  print(\"Ipv4 Classe B\")\n",
        "if n >= 192 and n <= 223:\n",
        "  print(\"Ipv4 Classe C\")\n",
        "if n >= 224 and n <= 239:\n",
        "  print(\"Ipv4 Classe D\")\n",
        "\n",
        "print(a,b,c,d)\n"
      ],
      "execution_count": 8,
      "outputs": [
        {
          "output_type": "stream",
          "text": [
            "Digite o Ipv4 no fomrado xxx.xxx.xxx.xxx : 198.0.0.0\n",
            "-------------------------\n",
            "Ipv4 Classe C\n",
            "198 0 0 0\n"
          ],
          "name": "stdout"
        }
      ]
    },
    {
      "cell_type": "code",
      "metadata": {
        "id": "h0UZMXu5HB4a",
        "colab_type": "code",
        "colab": {
          "base_uri": "https://localhost:8080/",
          "height": 102
        },
        "outputId": "b689ce41-e11e-4fe3-937c-9e7b9aa35984"
      },
      "source": [
        "'''Faça um algoritmo que leia três números diferentes e mostre-os em ordem decrescente'''\n",
        "n1 = int(input(\"Primeiro número: \"))\n",
        "n2 = int(input(\"Segundo númnero: \"))\n",
        "n3 = int(input(\"Terceiro número: \"))\n",
        "\n",
        "print(\"-------------------\")\n",
        "if n1 > n2 > n3:\n",
        "   print(n1,n2,n3)\n",
        "if n1 > n3 > n2:\n",
        "   print(n1,n3,n2)\n",
        "if n2 > n1 > n3:\n",
        "   print(n2,n1,n3)\n",
        "if n2 > n3 > n1:\n",
        "   print(n2,n3,n1)\n",
        "if n3 > n1 > n2:\n",
        "   print(n3,n1,n2)\n",
        "if n3 > n2 > n1:\n",
        "   print(n3,n2,n1)\n",
        "if n1 == n2 or n1 == n3 or n2 == n3:\n",
        "   print(\"Você precisa digitar 3 números diferentes\")"
      ],
      "execution_count": 9,
      "outputs": [
        {
          "output_type": "stream",
          "text": [
            "Primeiro número: 9\n",
            "Segundo númnero: 6\n",
            "Terceiro número: 5\n",
            "-------------------\n",
            "9 6 5\n"
          ],
          "name": "stdout"
        }
      ]
    },
    {
      "cell_type": "code",
      "metadata": {
        "id": "_x1fC81JHPf6",
        "colab_type": "code",
        "colab": {
          "base_uri": "https://localhost:8080/",
          "height": 153
        },
        "outputId": "c0d6a702-67c6-4420-b5ed-28c5cb52bb03"
      },
      "source": [
        "'''Faça um programa que calcule o imposto de renda, a partir de um salário a deduzir\" inserido pelo usuário, conforme tabela descrita no site ...\n",
        "https://www.mongeralaegon.com.br/blog/dinheiro/artigo/faixas-do-imposto-de-renda-qual-a-sua-aliquota-na-tabela-atualizada-do-ir\n",
        "'''\n",
        "salario = float(input(\"Digite seu salário:\"))\n",
        "aliquota = float()\n",
        "parcela = float()\n",
        "\n",
        "if salario >= 1903.98:\n",
        "  aliquota = 0\n",
        "  parcela = 0\n",
        "if salario >= 1903.99 and salario >= 2826.65:\n",
        "  aliquota = 7.5\n",
        "  parcela = 142.80\n",
        "if salario >= 2826.66 and salario >= 3751.05:\n",
        "  aliquota = 15\n",
        "  parcela = 354.89\n",
        "if salario >= 3751.06 and salario >= 4664.67:\n",
        "  aliquota = 22.5\n",
        "  parcela = 636.13\n",
        "if salario >= 4664.68:\n",
        "  aliquota = 27.5\n",
        "  parcela = 869.36\n",
        "\n",
        "imposto = (salario * aliquota) / 100\n",
        "valorTotal = imposto - parcela\n",
        "\n",
        "print(\"-------------------------------------------\")\n",
        "print(\"Aliquota R$: \" + str(aliquota))\n",
        "print(\"Parcela R$: \" + str(parcela))\n",
        "print(\"Imposto R$: \" + str(imposto))\n",
        "print(\"-------------------------------------------\")\n",
        "print(\"Valor a pagar R$: {:.2f}\" .format(valorTotal))\n",
        "print(\"-------------------------------------------\")"
      ],
      "execution_count": 6,
      "outputs": [
        {
          "output_type": "stream",
          "text": [
            "Digite seu salário:5000\n",
            "-------------------------------------------\n",
            "Aliquota R$: 27.5\n",
            "Parcela R$: 869.36\n",
            "Imposto R$: 1375.0\n",
            "-------------------------------------------\n",
            "Valor a pagar R$: 505.64\n",
            "-------------------------------------------\n"
          ],
          "name": "stdout"
        }
      ]
    }
  ]
}